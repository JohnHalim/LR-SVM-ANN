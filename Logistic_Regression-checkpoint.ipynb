{
 "cells": [
  {
   "cell_type": "code",
   "execution_count": 2,
   "id": "3a20ac3c",
   "metadata": {},
   "outputs": [],
   "source": [
    "import numpy as np\n",
    "import pandas as pd\n",
    "import seaborn as sns\n",
    "\n",
    "path = 'D:\\\\FCIH\\\\L3\\\\1StTerm\\\\Selected1\\\\project\\\\diabetes.csv'\n",
    "df = pd.read_csv(path)"
   ]
  },
  {
   "cell_type": "code",
   "execution_count": 3,
   "id": "dbad1986",
   "metadata": {},
   "outputs": [
    {
     "name": "stdout",
     "output_type": "stream",
     "text": [
      "   Pregnancies  Glucose  BloodPressure  SkinThickness  Insulin   BMI  \\\n",
      "0            6      148             72             35        0  33.6   \n",
      "1            1       85             66             29        0  26.6   \n",
      "2            8      183             64              0        0  23.3   \n",
      "3            1       89             66             23       94  28.1   \n",
      "4            0      137             40             35      168  43.1   \n",
      "\n",
      "   DiabetesPedigreeFunction  Age  Outcome  \n",
      "0                     0.627   50        1  \n",
      "1                     0.351   31        0  \n",
      "2                     0.672   32        1  \n",
      "3                     0.167   21        0  \n",
      "4                     2.288   33        1  \n"
     ]
    }
   ],
   "source": [
    "print(df.head(5))"
   ]
  },
  {
   "cell_type": "code",
   "execution_count": 4,
   "id": "3c41ed0b",
   "metadata": {},
   "outputs": [
    {
     "data": {
      "text/html": [
       "<div>\n",
       "<style scoped>\n",
       "    .dataframe tbody tr th:only-of-type {\n",
       "        vertical-align: middle;\n",
       "    }\n",
       "\n",
       "    .dataframe tbody tr th {\n",
       "        vertical-align: top;\n",
       "    }\n",
       "\n",
       "    .dataframe thead th {\n",
       "        text-align: right;\n",
       "    }\n",
       "</style>\n",
       "<table border=\"1\" class=\"dataframe\">\n",
       "  <thead>\n",
       "    <tr style=\"text-align: right;\">\n",
       "      <th></th>\n",
       "      <th>Pregnancies</th>\n",
       "      <th>Glucose</th>\n",
       "      <th>BloodPressure</th>\n",
       "      <th>SkinThickness</th>\n",
       "      <th>Insulin</th>\n",
       "      <th>BMI</th>\n",
       "      <th>DiabetesPedigreeFunction</th>\n",
       "      <th>Age</th>\n",
       "      <th>Outcome</th>\n",
       "    </tr>\n",
       "  </thead>\n",
       "  <tbody>\n",
       "    <tr>\n",
       "      <th>count</th>\n",
       "      <td>768.000000</td>\n",
       "      <td>768.000000</td>\n",
       "      <td>768.000000</td>\n",
       "      <td>768.000000</td>\n",
       "      <td>768.000000</td>\n",
       "      <td>768.000000</td>\n",
       "      <td>768.000000</td>\n",
       "      <td>768.000000</td>\n",
       "      <td>768.000000</td>\n",
       "    </tr>\n",
       "    <tr>\n",
       "      <th>mean</th>\n",
       "      <td>3.845052</td>\n",
       "      <td>120.894531</td>\n",
       "      <td>69.105469</td>\n",
       "      <td>20.536458</td>\n",
       "      <td>79.799479</td>\n",
       "      <td>31.992578</td>\n",
       "      <td>0.471876</td>\n",
       "      <td>33.240885</td>\n",
       "      <td>0.348958</td>\n",
       "    </tr>\n",
       "    <tr>\n",
       "      <th>std</th>\n",
       "      <td>3.369578</td>\n",
       "      <td>31.972618</td>\n",
       "      <td>19.355807</td>\n",
       "      <td>15.952218</td>\n",
       "      <td>115.244002</td>\n",
       "      <td>7.884160</td>\n",
       "      <td>0.331329</td>\n",
       "      <td>11.760232</td>\n",
       "      <td>0.476951</td>\n",
       "    </tr>\n",
       "    <tr>\n",
       "      <th>min</th>\n",
       "      <td>0.000000</td>\n",
       "      <td>0.000000</td>\n",
       "      <td>0.000000</td>\n",
       "      <td>0.000000</td>\n",
       "      <td>0.000000</td>\n",
       "      <td>0.000000</td>\n",
       "      <td>0.078000</td>\n",
       "      <td>21.000000</td>\n",
       "      <td>0.000000</td>\n",
       "    </tr>\n",
       "    <tr>\n",
       "      <th>25%</th>\n",
       "      <td>1.000000</td>\n",
       "      <td>99.000000</td>\n",
       "      <td>62.000000</td>\n",
       "      <td>0.000000</td>\n",
       "      <td>0.000000</td>\n",
       "      <td>27.300000</td>\n",
       "      <td>0.243750</td>\n",
       "      <td>24.000000</td>\n",
       "      <td>0.000000</td>\n",
       "    </tr>\n",
       "    <tr>\n",
       "      <th>50%</th>\n",
       "      <td>3.000000</td>\n",
       "      <td>117.000000</td>\n",
       "      <td>72.000000</td>\n",
       "      <td>23.000000</td>\n",
       "      <td>30.500000</td>\n",
       "      <td>32.000000</td>\n",
       "      <td>0.372500</td>\n",
       "      <td>29.000000</td>\n",
       "      <td>0.000000</td>\n",
       "    </tr>\n",
       "    <tr>\n",
       "      <th>75%</th>\n",
       "      <td>6.000000</td>\n",
       "      <td>140.250000</td>\n",
       "      <td>80.000000</td>\n",
       "      <td>32.000000</td>\n",
       "      <td>127.250000</td>\n",
       "      <td>36.600000</td>\n",
       "      <td>0.626250</td>\n",
       "      <td>41.000000</td>\n",
       "      <td>1.000000</td>\n",
       "    </tr>\n",
       "    <tr>\n",
       "      <th>max</th>\n",
       "      <td>17.000000</td>\n",
       "      <td>199.000000</td>\n",
       "      <td>122.000000</td>\n",
       "      <td>99.000000</td>\n",
       "      <td>846.000000</td>\n",
       "      <td>67.100000</td>\n",
       "      <td>2.420000</td>\n",
       "      <td>81.000000</td>\n",
       "      <td>1.000000</td>\n",
       "    </tr>\n",
       "  </tbody>\n",
       "</table>\n",
       "</div>"
      ],
      "text/plain": [
       "       Pregnancies     Glucose  BloodPressure  SkinThickness     Insulin  \\\n",
       "count   768.000000  768.000000     768.000000     768.000000  768.000000   \n",
       "mean      3.845052  120.894531      69.105469      20.536458   79.799479   \n",
       "std       3.369578   31.972618      19.355807      15.952218  115.244002   \n",
       "min       0.000000    0.000000       0.000000       0.000000    0.000000   \n",
       "25%       1.000000   99.000000      62.000000       0.000000    0.000000   \n",
       "50%       3.000000  117.000000      72.000000      23.000000   30.500000   \n",
       "75%       6.000000  140.250000      80.000000      32.000000  127.250000   \n",
       "max      17.000000  199.000000     122.000000      99.000000  846.000000   \n",
       "\n",
       "              BMI  DiabetesPedigreeFunction         Age     Outcome  \n",
       "count  768.000000                768.000000  768.000000  768.000000  \n",
       "mean    31.992578                  0.471876   33.240885    0.348958  \n",
       "std      7.884160                  0.331329   11.760232    0.476951  \n",
       "min      0.000000                  0.078000   21.000000    0.000000  \n",
       "25%     27.300000                  0.243750   24.000000    0.000000  \n",
       "50%     32.000000                  0.372500   29.000000    0.000000  \n",
       "75%     36.600000                  0.626250   41.000000    1.000000  \n",
       "max     67.100000                  2.420000   81.000000    1.000000  "
      ]
     },
     "execution_count": 4,
     "metadata": {},
     "output_type": "execute_result"
    }
   ],
   "source": [
    "df.describe()"
   ]
  },
  {
   "cell_type": "code",
   "execution_count": 5,
   "id": "b0716082",
   "metadata": {},
   "outputs": [
    {
     "name": "stdout",
     "output_type": "stream",
     "text": [
      "<class 'pandas.core.frame.DataFrame'>\n",
      "RangeIndex: 768 entries, 0 to 767\n",
      "Data columns (total 9 columns):\n",
      " #   Column                    Non-Null Count  Dtype  \n",
      "---  ------                    --------------  -----  \n",
      " 0   Pregnancies               768 non-null    int64  \n",
      " 1   Glucose                   768 non-null    int64  \n",
      " 2   BloodPressure             768 non-null    int64  \n",
      " 3   SkinThickness             768 non-null    int64  \n",
      " 4   Insulin                   768 non-null    int64  \n",
      " 5   BMI                       768 non-null    float64\n",
      " 6   DiabetesPedigreeFunction  768 non-null    float64\n",
      " 7   Age                       768 non-null    int64  \n",
      " 8   Outcome                   768 non-null    int64  \n",
      "dtypes: float64(2), int64(7)\n",
      "memory usage: 54.1 KB\n"
     ]
    }
   ],
   "source": [
    "df.info()"
   ]
  },
  {
   "cell_type": "code",
   "execution_count": 6,
   "id": "df501bbd",
   "metadata": {},
   "outputs": [
    {
     "data": {
      "text/plain": [
       "(768, 9)"
      ]
     },
     "execution_count": 6,
     "metadata": {},
     "output_type": "execute_result"
    }
   ],
   "source": [
    "df.shape"
   ]
  },
  {
   "cell_type": "code",
   "execution_count": 8,
   "id": "91e1ff38",
   "metadata": {},
   "outputs": [],
   "source": [
    "#replace zero with np.nan using loop\n",
    "zero_value = [\"Glucose\", \"BloodPressure\", \"SkinThickness\", \"Insulin\", \"BMI\"]\n",
    "for i in zero_value:\n",
    "    df[i].replace(0,np.nan, inplace=True)"
   ]
  },
  {
   "cell_type": "code",
   "execution_count": 9,
   "id": "8de82d32",
   "metadata": {},
   "outputs": [
    {
     "data": {
      "text/html": [
       "<div>\n",
       "<style scoped>\n",
       "    .dataframe tbody tr th:only-of-type {\n",
       "        vertical-align: middle;\n",
       "    }\n",
       "\n",
       "    .dataframe tbody tr th {\n",
       "        vertical-align: top;\n",
       "    }\n",
       "\n",
       "    .dataframe thead th {\n",
       "        text-align: right;\n",
       "    }\n",
       "</style>\n",
       "<table border=\"1\" class=\"dataframe\">\n",
       "  <thead>\n",
       "    <tr style=\"text-align: right;\">\n",
       "      <th></th>\n",
       "      <th>Pregnancies</th>\n",
       "      <th>Glucose</th>\n",
       "      <th>BloodPressure</th>\n",
       "      <th>SkinThickness</th>\n",
       "      <th>Insulin</th>\n",
       "      <th>BMI</th>\n",
       "      <th>DiabetesPedigreeFunction</th>\n",
       "      <th>Age</th>\n",
       "      <th>Outcome</th>\n",
       "    </tr>\n",
       "  </thead>\n",
       "  <tbody>\n",
       "    <tr>\n",
       "      <th>count</th>\n",
       "      <td>768.000000</td>\n",
       "      <td>763.000000</td>\n",
       "      <td>733.000000</td>\n",
       "      <td>541.000000</td>\n",
       "      <td>394.000000</td>\n",
       "      <td>757.000000</td>\n",
       "      <td>768.000000</td>\n",
       "      <td>768.000000</td>\n",
       "      <td>768.000000</td>\n",
       "    </tr>\n",
       "    <tr>\n",
       "      <th>mean</th>\n",
       "      <td>3.845052</td>\n",
       "      <td>121.686763</td>\n",
       "      <td>72.405184</td>\n",
       "      <td>29.153420</td>\n",
       "      <td>155.548223</td>\n",
       "      <td>32.457464</td>\n",
       "      <td>0.471876</td>\n",
       "      <td>33.240885</td>\n",
       "      <td>0.348958</td>\n",
       "    </tr>\n",
       "    <tr>\n",
       "      <th>std</th>\n",
       "      <td>3.369578</td>\n",
       "      <td>30.535641</td>\n",
       "      <td>12.382158</td>\n",
       "      <td>10.476982</td>\n",
       "      <td>118.775855</td>\n",
       "      <td>6.924988</td>\n",
       "      <td>0.331329</td>\n",
       "      <td>11.760232</td>\n",
       "      <td>0.476951</td>\n",
       "    </tr>\n",
       "    <tr>\n",
       "      <th>min</th>\n",
       "      <td>0.000000</td>\n",
       "      <td>44.000000</td>\n",
       "      <td>24.000000</td>\n",
       "      <td>7.000000</td>\n",
       "      <td>14.000000</td>\n",
       "      <td>18.200000</td>\n",
       "      <td>0.078000</td>\n",
       "      <td>21.000000</td>\n",
       "      <td>0.000000</td>\n",
       "    </tr>\n",
       "    <tr>\n",
       "      <th>25%</th>\n",
       "      <td>1.000000</td>\n",
       "      <td>99.000000</td>\n",
       "      <td>64.000000</td>\n",
       "      <td>22.000000</td>\n",
       "      <td>76.250000</td>\n",
       "      <td>27.500000</td>\n",
       "      <td>0.243750</td>\n",
       "      <td>24.000000</td>\n",
       "      <td>0.000000</td>\n",
       "    </tr>\n",
       "    <tr>\n",
       "      <th>50%</th>\n",
       "      <td>3.000000</td>\n",
       "      <td>117.000000</td>\n",
       "      <td>72.000000</td>\n",
       "      <td>29.000000</td>\n",
       "      <td>125.000000</td>\n",
       "      <td>32.300000</td>\n",
       "      <td>0.372500</td>\n",
       "      <td>29.000000</td>\n",
       "      <td>0.000000</td>\n",
       "    </tr>\n",
       "    <tr>\n",
       "      <th>75%</th>\n",
       "      <td>6.000000</td>\n",
       "      <td>141.000000</td>\n",
       "      <td>80.000000</td>\n",
       "      <td>36.000000</td>\n",
       "      <td>190.000000</td>\n",
       "      <td>36.600000</td>\n",
       "      <td>0.626250</td>\n",
       "      <td>41.000000</td>\n",
       "      <td>1.000000</td>\n",
       "    </tr>\n",
       "    <tr>\n",
       "      <th>max</th>\n",
       "      <td>17.000000</td>\n",
       "      <td>199.000000</td>\n",
       "      <td>122.000000</td>\n",
       "      <td>99.000000</td>\n",
       "      <td>846.000000</td>\n",
       "      <td>67.100000</td>\n",
       "      <td>2.420000</td>\n",
       "      <td>81.000000</td>\n",
       "      <td>1.000000</td>\n",
       "    </tr>\n",
       "  </tbody>\n",
       "</table>\n",
       "</div>"
      ],
      "text/plain": [
       "       Pregnancies     Glucose  BloodPressure  SkinThickness     Insulin  \\\n",
       "count   768.000000  763.000000     733.000000     541.000000  394.000000   \n",
       "mean      3.845052  121.686763      72.405184      29.153420  155.548223   \n",
       "std       3.369578   30.535641      12.382158      10.476982  118.775855   \n",
       "min       0.000000   44.000000      24.000000       7.000000   14.000000   \n",
       "25%       1.000000   99.000000      64.000000      22.000000   76.250000   \n",
       "50%       3.000000  117.000000      72.000000      29.000000  125.000000   \n",
       "75%       6.000000  141.000000      80.000000      36.000000  190.000000   \n",
       "max      17.000000  199.000000     122.000000      99.000000  846.000000   \n",
       "\n",
       "              BMI  DiabetesPedigreeFunction         Age     Outcome  \n",
       "count  757.000000                768.000000  768.000000  768.000000  \n",
       "mean    32.457464                  0.471876   33.240885    0.348958  \n",
       "std      6.924988                  0.331329   11.760232    0.476951  \n",
       "min     18.200000                  0.078000   21.000000    0.000000  \n",
       "25%     27.500000                  0.243750   24.000000    0.000000  \n",
       "50%     32.300000                  0.372500   29.000000    0.000000  \n",
       "75%     36.600000                  0.626250   41.000000    1.000000  \n",
       "max     67.100000                  2.420000   81.000000    1.000000  "
      ]
     },
     "execution_count": 9,
     "metadata": {},
     "output_type": "execute_result"
    }
   ],
   "source": [
    "df.describe()"
   ]
  },
  {
   "cell_type": "code",
   "execution_count": 10,
   "id": "c16e2bd0",
   "metadata": {},
   "outputs": [
    {
     "data": {
      "text/html": [
       "<div>\n",
       "<style scoped>\n",
       "    .dataframe tbody tr th:only-of-type {\n",
       "        vertical-align: middle;\n",
       "    }\n",
       "\n",
       "    .dataframe tbody tr th {\n",
       "        vertical-align: top;\n",
       "    }\n",
       "\n",
       "    .dataframe thead th {\n",
       "        text-align: right;\n",
       "    }\n",
       "</style>\n",
       "<table border=\"1\" class=\"dataframe\">\n",
       "  <thead>\n",
       "    <tr style=\"text-align: right;\">\n",
       "      <th></th>\n",
       "      <th>df</th>\n",
       "    </tr>\n",
       "  </thead>\n",
       "  <tbody>\n",
       "    <tr>\n",
       "      <th>Glucose</th>\n",
       "      <td>5</td>\n",
       "    </tr>\n",
       "    <tr>\n",
       "      <th>BloodPressure</th>\n",
       "      <td>35</td>\n",
       "    </tr>\n",
       "    <tr>\n",
       "      <th>SkinThickness</th>\n",
       "      <td>227</td>\n",
       "    </tr>\n",
       "    <tr>\n",
       "      <th>Insulin</th>\n",
       "      <td>374</td>\n",
       "    </tr>\n",
       "    <tr>\n",
       "      <th>BMI</th>\n",
       "      <td>11</td>\n",
       "    </tr>\n",
       "  </tbody>\n",
       "</table>\n",
       "</div>"
      ],
      "text/plain": [
       "                df\n",
       "Glucose          5\n",
       "BloodPressure   35\n",
       "SkinThickness  227\n",
       "Insulin        374\n",
       "BMI             11"
      ]
     },
     "execution_count": 10,
     "metadata": {},
     "output_type": "execute_result"
    }
   ],
   "source": [
    "#counting null values column wise\n",
    "count1 = pd.concat([df.isnull().sum()], axis=1, keys=[\"df\"])\n",
    "count1[count1.sum(axis=1)>0]"
   ]
  },
  {
   "cell_type": "code",
   "execution_count": 11,
   "id": "b0d40450",
   "metadata": {},
   "outputs": [
    {
     "name": "stdout",
     "output_type": "stream",
     "text": [
      "(-19.5, 32.5)\n",
      "(-124.94999999999999, 388.57)\n",
      "(-49.0, 199.0)\n",
      "(-54.80000000000007, 118.00000000000011)\n",
      "(-825.7049999999997, 1424.1749999999995)\n",
      "(-27.7679999999998, 98.27999999999966)\n",
      "(-2.310795, 4.103805)\n",
      "(-48.0, 136.0)\n",
      "(-1.5, 2.5)\n"
     ]
    }
   ],
   "source": [
    "#removing outliers\n",
    "def outlier_thresholds(dataframe, col_name, q1=0.01, q3=0.99):\n",
    "    quartile1 = dataframe[col_name].quantile(q1)\n",
    "    quartile3 = dataframe[col_name].quantile(q3)\n",
    "    interquantile_range = quartile3 - quartile1\n",
    "    up_limit = quartile3 + 1.5 * interquantile_range\n",
    "    low_limit = quartile1 - 1.5 * interquantile_range\n",
    "    return low_limit, up_limit\n",
    "\n",
    "for col in df.columns:\n",
    "    print(outlier_thresholds(df, col))\n"
   ]
  },
  {
   "cell_type": "code",
   "execution_count": 12,
   "id": "bdf292d7",
   "metadata": {},
   "outputs": [],
   "source": [
    "def replace_with_thresholds(dataframe, variable):\n",
    "    low_limit, up_limit = outlier_thresholds(dataframe, variable)\n",
    "    dataframe.loc[(dataframe[variable] < low_limit), variable] = low_limit\n",
    "    dataframe.loc[(dataframe[variable] > up_limit), variable] = up_limit\n",
    "\n",
    "for col in df.columns:\n",
    "    replace_with_thresholds(df,col)\n"
   ]
  },
  {
   "cell_type": "code",
   "execution_count": 13,
   "id": "44a55016",
   "metadata": {},
   "outputs": [
    {
     "data": {
      "text/html": [
       "<div>\n",
       "<style scoped>\n",
       "    .dataframe tbody tr th:only-of-type {\n",
       "        vertical-align: middle;\n",
       "    }\n",
       "\n",
       "    .dataframe tbody tr th {\n",
       "        vertical-align: top;\n",
       "    }\n",
       "\n",
       "    .dataframe thead th {\n",
       "        text-align: right;\n",
       "    }\n",
       "</style>\n",
       "<table border=\"1\" class=\"dataframe\">\n",
       "  <thead>\n",
       "    <tr style=\"text-align: right;\">\n",
       "      <th></th>\n",
       "      <th>count</th>\n",
       "      <th>mean</th>\n",
       "      <th>std</th>\n",
       "      <th>min</th>\n",
       "      <th>25%</th>\n",
       "      <th>50%</th>\n",
       "      <th>75%</th>\n",
       "      <th>max</th>\n",
       "    </tr>\n",
       "  </thead>\n",
       "  <tbody>\n",
       "    <tr>\n",
       "      <th>Pregnancies</th>\n",
       "      <td>768.0</td>\n",
       "      <td>3.845052</td>\n",
       "      <td>3.369578</td>\n",
       "      <td>0.000</td>\n",
       "      <td>1.00000</td>\n",
       "      <td>3.0000</td>\n",
       "      <td>6.00000</td>\n",
       "      <td>17.00</td>\n",
       "    </tr>\n",
       "    <tr>\n",
       "      <th>Glucose</th>\n",
       "      <td>763.0</td>\n",
       "      <td>121.686763</td>\n",
       "      <td>30.535641</td>\n",
       "      <td>44.000</td>\n",
       "      <td>99.00000</td>\n",
       "      <td>117.0000</td>\n",
       "      <td>141.00000</td>\n",
       "      <td>199.00</td>\n",
       "    </tr>\n",
       "    <tr>\n",
       "      <th>BloodPressure</th>\n",
       "      <td>733.0</td>\n",
       "      <td>72.405184</td>\n",
       "      <td>12.382158</td>\n",
       "      <td>24.000</td>\n",
       "      <td>64.00000</td>\n",
       "      <td>72.0000</td>\n",
       "      <td>80.00000</td>\n",
       "      <td>122.00</td>\n",
       "    </tr>\n",
       "    <tr>\n",
       "      <th>SkinThickness</th>\n",
       "      <td>541.0</td>\n",
       "      <td>29.153420</td>\n",
       "      <td>10.476982</td>\n",
       "      <td>7.000</td>\n",
       "      <td>22.00000</td>\n",
       "      <td>29.0000</td>\n",
       "      <td>36.00000</td>\n",
       "      <td>99.00</td>\n",
       "    </tr>\n",
       "    <tr>\n",
       "      <th>Insulin</th>\n",
       "      <td>394.0</td>\n",
       "      <td>155.548223</td>\n",
       "      <td>118.775855</td>\n",
       "      <td>14.000</td>\n",
       "      <td>76.25000</td>\n",
       "      <td>125.0000</td>\n",
       "      <td>190.00000</td>\n",
       "      <td>846.00</td>\n",
       "    </tr>\n",
       "    <tr>\n",
       "      <th>BMI</th>\n",
       "      <td>757.0</td>\n",
       "      <td>32.457464</td>\n",
       "      <td>6.924988</td>\n",
       "      <td>18.200</td>\n",
       "      <td>27.50000</td>\n",
       "      <td>32.3000</td>\n",
       "      <td>36.60000</td>\n",
       "      <td>67.10</td>\n",
       "    </tr>\n",
       "    <tr>\n",
       "      <th>DiabetesPedigreeFunction</th>\n",
       "      <td>768.0</td>\n",
       "      <td>0.471876</td>\n",
       "      <td>0.331329</td>\n",
       "      <td>0.078</td>\n",
       "      <td>0.24375</td>\n",
       "      <td>0.3725</td>\n",
       "      <td>0.62625</td>\n",
       "      <td>2.42</td>\n",
       "    </tr>\n",
       "    <tr>\n",
       "      <th>Age</th>\n",
       "      <td>768.0</td>\n",
       "      <td>33.240885</td>\n",
       "      <td>11.760232</td>\n",
       "      <td>21.000</td>\n",
       "      <td>24.00000</td>\n",
       "      <td>29.0000</td>\n",
       "      <td>41.00000</td>\n",
       "      <td>81.00</td>\n",
       "    </tr>\n",
       "    <tr>\n",
       "      <th>Outcome</th>\n",
       "      <td>768.0</td>\n",
       "      <td>0.348958</td>\n",
       "      <td>0.476951</td>\n",
       "      <td>0.000</td>\n",
       "      <td>0.00000</td>\n",
       "      <td>0.0000</td>\n",
       "      <td>1.00000</td>\n",
       "      <td>1.00</td>\n",
       "    </tr>\n",
       "  </tbody>\n",
       "</table>\n",
       "</div>"
      ],
      "text/plain": [
       "                          count        mean         std     min       25%  \\\n",
       "Pregnancies               768.0    3.845052    3.369578   0.000   1.00000   \n",
       "Glucose                   763.0  121.686763   30.535641  44.000  99.00000   \n",
       "BloodPressure             733.0   72.405184   12.382158  24.000  64.00000   \n",
       "SkinThickness             541.0   29.153420   10.476982   7.000  22.00000   \n",
       "Insulin                   394.0  155.548223  118.775855  14.000  76.25000   \n",
       "BMI                       757.0   32.457464    6.924988  18.200  27.50000   \n",
       "DiabetesPedigreeFunction  768.0    0.471876    0.331329   0.078   0.24375   \n",
       "Age                       768.0   33.240885   11.760232  21.000  24.00000   \n",
       "Outcome                   768.0    0.348958    0.476951   0.000   0.00000   \n",
       "\n",
       "                               50%        75%     max  \n",
       "Pregnancies                 3.0000    6.00000   17.00  \n",
       "Glucose                   117.0000  141.00000  199.00  \n",
       "BloodPressure              72.0000   80.00000  122.00  \n",
       "SkinThickness              29.0000   36.00000   99.00  \n",
       "Insulin                   125.0000  190.00000  846.00  \n",
       "BMI                        32.3000   36.60000   67.10  \n",
       "DiabetesPedigreeFunction    0.3725    0.62625    2.42  \n",
       "Age                        29.0000   41.00000   81.00  \n",
       "Outcome                     0.0000    1.00000    1.00  "
      ]
     },
     "execution_count": 13,
     "metadata": {},
     "output_type": "execute_result"
    }
   ],
   "source": [
    "df.describe().T\n"
   ]
  },
  {
   "cell_type": "code",
   "execution_count": 14,
   "id": "7224ab42",
   "metadata": {},
   "outputs": [
    {
     "data": {
      "text/plain": [
       "<AxesSubplot:xlabel='BloodPressure'>"
      ]
     },
     "execution_count": 14,
     "metadata": {},
     "output_type": "execute_result"
    },
    {
     "data": {
      "image/png": "[encoded data removed]",
      "text/plain": [
       "<Figure size 640x480 with 1 Axes>"
      ]
     },
     "metadata": {},
     "output_type": "display_data"
    }
   ],
   "source": [
    "#visualizing our data\n",
    "sns.boxplot(data=df, x= df[\"BloodPressure\"])"
   ]
  },
  {
   "cell_type": "code",
   "execution_count": 15,
   "id": "f841a715",
   "metadata": {},
   "outputs": [
    {
     "data": {
      "text/plain": [
       "<AxesSubplot:xlabel='SkinThickness'>"
      ]
     },
     "execution_count": 15,
     "metadata": {},
     "output_type": "execute_result"
    },
    {
     "data": {
      "image/png": "[encoded data removed]",
      "text/plain": [
       "<Figure size 640x480 with 1 Axes>"
      ]
     },
     "metadata": {},
     "output_type": "display_data"
    }
   ],
   "source": [
    "sns.boxplot(data=df, x= df[\"SkinThickness\"])"
   ]
  },
  {
   "cell_type": "code",
   "execution_count": 16,
   "id": "0de7d19a",
   "metadata": {},
   "outputs": [
    {
     "data": {
      "text/plain": [
       "<AxesSubplot:xlabel='Pregnancies'>"
      ]
     },
     "execution_count": 16,
     "metadata": {},
     "output_type": "execute_result"
    },
    {
     "data": {
      "image/png": "[encoded data removed]",
      "text/plain": [
       "<Figure size 640x480 with 1 Axes>"
      ]
     },
     "metadata": {},
     "output_type": "display_data"
    }
   ],
   "source": [
    "sns.boxplot(data=df, x= df[\"Pregnancies\"])"
   ]
  },
  {
   "cell_type": "code",
   "execution_count": 17,
   "id": "bb4956fb",
   "metadata": {},
   "outputs": [
    {
     "data": {
      "text/plain": [
       "<AxesSubplot:xlabel='Glucose'>"
      ]
     },
     "execution_count": 17,
     "metadata": {},
     "output_type": "execute_result"
    },
    {
     "data": {
      "image/png": "[encoded data removed]",
      "text/plain": [
       "<Figure size 640x480 with 1 Axes>"
      ]
     },
     "metadata": {},
     "output_type": "display_data"
    }
   ],
   "source": [
    "sns.boxplot(data=df, x= df[\"Glucose\"])"
   ]
  },
  {
   "cell_type": "code",
   "execution_count": 18,
   "id": "648826f6",
   "metadata": {},
   "outputs": [
    {
     "data": {
      "text/plain": [
       "<AxesSubplot:xlabel='Insulin'>"
      ]
     },
     "execution_count": 18,
     "metadata": {},
     "output_type": "execute_result"
    },
    {
     "data": {
      "image/png": "[encoded data removed]",
      "text/plain": [
       "<Figure size 640x480 with 1 Axes>"
      ]
     },
     "metadata": {},
     "output_type": "display_data"
    }
   ],
   "source": [
    "sns.boxplot(data=df, x= df[\"Insulin\"])"
   ]
  },
  {
   "cell_type": "code",
   "execution_count": 19,
   "id": "ca13445b",
   "metadata": {},
   "outputs": [],
   "source": [
    "#replacing np.nan to mode using imputer\n",
    "from sklearn.impute import SimpleImputer\n",
    "\n",
    "imp = SimpleImputer(missing_values=np.nan, strategy='most_frequent')\n",
    "X = imp.fit_transform(df)\n",
    "df2 = pd.DataFrame(X, columns=df.columns)\n",
    "df2['Outcome']=df2['Outcome'].round().astype('int64')\n"
   ]
  },
  {
   "cell_type": "code",
   "execution_count": 20,
   "id": "c07cf9cb",
   "metadata": {},
   "outputs": [
    {
     "data": {
      "text/html": [
       "<div>\n",
       "<style scoped>\n",
       "    .dataframe tbody tr th:only-of-type {\n",
       "        vertical-align: middle;\n",
       "    }\n",
       "\n",
       "    .dataframe tbody tr th {\n",
       "        vertical-align: top;\n",
       "    }\n",
       "\n",
       "    .dataframe thead th {\n",
       "        text-align: right;\n",
       "    }\n",
       "</style>\n",
       "<table border=\"1\" class=\"dataframe\">\n",
       "  <thead>\n",
       "    <tr style=\"text-align: right;\">\n",
       "      <th></th>\n",
       "      <th>count</th>\n",
       "      <th>mean</th>\n",
       "      <th>std</th>\n",
       "      <th>min</th>\n",
       "      <th>25%</th>\n",
       "      <th>50%</th>\n",
       "      <th>75%</th>\n",
       "      <th>max</th>\n",
       "    </tr>\n",
       "  </thead>\n",
       "  <tbody>\n",
       "    <tr>\n",
       "      <th>Pregnancies</th>\n",
       "      <td>768.0</td>\n",
       "      <td>3.845052</td>\n",
       "      <td>3.369578</td>\n",
       "      <td>0.000</td>\n",
       "      <td>1.00000</td>\n",
       "      <td>3.0000</td>\n",
       "      <td>6.00000</td>\n",
       "      <td>17.00</td>\n",
       "    </tr>\n",
       "    <tr>\n",
       "      <th>Glucose</th>\n",
       "      <td>768.0</td>\n",
       "      <td>121.539062</td>\n",
       "      <td>30.490660</td>\n",
       "      <td>44.000</td>\n",
       "      <td>99.00000</td>\n",
       "      <td>117.0000</td>\n",
       "      <td>140.25000</td>\n",
       "      <td>199.00</td>\n",
       "    </tr>\n",
       "    <tr>\n",
       "      <th>BloodPressure</th>\n",
       "      <td>768.0</td>\n",
       "      <td>72.295573</td>\n",
       "      <td>12.106756</td>\n",
       "      <td>24.000</td>\n",
       "      <td>64.00000</td>\n",
       "      <td>72.0000</td>\n",
       "      <td>80.00000</td>\n",
       "      <td>122.00</td>\n",
       "    </tr>\n",
       "    <tr>\n",
       "      <th>SkinThickness</th>\n",
       "      <td>768.0</td>\n",
       "      <td>29.994792</td>\n",
       "      <td>8.886506</td>\n",
       "      <td>7.000</td>\n",
       "      <td>25.00000</td>\n",
       "      <td>32.0000</td>\n",
       "      <td>32.00000</td>\n",
       "      <td>99.00</td>\n",
       "    </tr>\n",
       "    <tr>\n",
       "      <th>Insulin</th>\n",
       "      <td>768.0</td>\n",
       "      <td>130.932292</td>\n",
       "      <td>88.700443</td>\n",
       "      <td>14.000</td>\n",
       "      <td>105.00000</td>\n",
       "      <td>105.0000</td>\n",
       "      <td>127.25000</td>\n",
       "      <td>846.00</td>\n",
       "    </tr>\n",
       "    <tr>\n",
       "      <th>BMI</th>\n",
       "      <td>768.0</td>\n",
       "      <td>32.450911</td>\n",
       "      <td>6.875366</td>\n",
       "      <td>18.200</td>\n",
       "      <td>27.50000</td>\n",
       "      <td>32.0000</td>\n",
       "      <td>36.60000</td>\n",
       "      <td>67.10</td>\n",
       "    </tr>\n",
       "    <tr>\n",
       "      <th>DiabetesPedigreeFunction</th>\n",
       "      <td>768.0</td>\n",
       "      <td>0.471876</td>\n",
       "      <td>0.331329</td>\n",
       "      <td>0.078</td>\n",
       "      <td>0.24375</td>\n",
       "      <td>0.3725</td>\n",
       "      <td>0.62625</td>\n",
       "      <td>2.42</td>\n",
       "    </tr>\n",
       "    <tr>\n",
       "      <th>Age</th>\n",
       "      <td>768.0</td>\n",
       "      <td>33.240885</td>\n",
       "      <td>11.760232</td>\n",
       "      <td>21.000</td>\n",
       "      <td>24.00000</td>\n",
       "      <td>29.0000</td>\n",
       "      <td>41.00000</td>\n",
       "      <td>81.00</td>\n",
       "    </tr>\n",
       "    <tr>\n",
       "      <th>Outcome</th>\n",
       "      <td>768.0</td>\n",
       "      <td>0.348958</td>\n",
       "      <td>0.476951</td>\n",
       "      <td>0.000</td>\n",
       "      <td>0.00000</td>\n",
       "      <td>0.0000</td>\n",
       "      <td>1.00000</td>\n",
       "      <td>1.00</td>\n",
       "    </tr>\n",
       "  </tbody>\n",
       "</table>\n",
       "</div>"
      ],
      "text/plain": [
       "                          count        mean        std     min        25%  \\\n",
       "Pregnancies               768.0    3.845052   3.369578   0.000    1.00000   \n",
       "Glucose                   768.0  121.539062  30.490660  44.000   99.00000   \n",
       "BloodPressure             768.0   72.295573  12.106756  24.000   64.00000   \n",
       "SkinThickness             768.0   29.994792   8.886506   7.000   25.00000   \n",
       "Insulin                   768.0  130.932292  88.700443  14.000  105.00000   \n",
       "BMI                       768.0   32.450911   6.875366  18.200   27.50000   \n",
       "DiabetesPedigreeFunction  768.0    0.471876   0.331329   0.078    0.24375   \n",
       "Age                       768.0   33.240885  11.760232  21.000   24.00000   \n",
       "Outcome                   768.0    0.348958   0.476951   0.000    0.00000   \n",
       "\n",
       "                               50%        75%     max  \n",
       "Pregnancies                 3.0000    6.00000   17.00  \n",
       "Glucose                   117.0000  140.25000  199.00  \n",
       "BloodPressure              72.0000   80.00000  122.00  \n",
       "SkinThickness              32.0000   32.00000   99.00  \n",
       "Insulin                   105.0000  127.25000  846.00  \n",
       "BMI                        32.0000   36.60000   67.10  \n",
       "DiabetesPedigreeFunction    0.3725    0.62625    2.42  \n",
       "Age                        29.0000   41.00000   81.00  \n",
       "Outcome                     0.0000    1.00000    1.00  "
      ]
     },
     "execution_count": 20,
     "metadata": {},
     "output_type": "execute_result"
    }
   ],
   "source": [
    "df2.describe().T\n"
   ]
  },
  {
   "cell_type": "code",
   "execution_count": 21,
   "id": "d16338b6",
   "metadata": {},
   "outputs": [
    {
     "data": {
      "text/plain": [
       "<AxesSubplot:xlabel='BloodPressure'>"
      ]
     },
     "execution_count": 21,
     "metadata": {},
     "output_type": "execute_result"
    },
    {
     "data": {
      "image/png": "[encoded data removed]",
      "text/plain": [
       "<Figure size 640x480 with 1 Axes>"
      ]
     },
     "metadata": {},
     "output_type": "display_data"
    }
   ],
   "source": [
    "#visualizing our data after replacing nulls with mode \n",
    "sns.boxplot(data=df2, x= df2[\"BloodPressure\"])\n"
   ]
  },
  {
   "cell_type": "code",
   "execution_count": 22,
   "id": "21543b17",
   "metadata": {},
   "outputs": [
    {
     "data": {
      "text/plain": [
       "<AxesSubplot:xlabel='SkinThickness'>"
      ]
     },
     "execution_count": 22,
     "metadata": {},
     "output_type": "execute_result"
    },
    {
     "data": {
      "image/png": "[encoded data removed]",
      "text/plain": [
       "<Figure size 640x480 with 1 Axes>"
      ]
     },
     "metadata": {},
     "output_type": "display_data"
    }
   ],
   "source": [
    "sns.boxplot(data=df2, x= df2[\"SkinThickness\"])\n"
   ]
  },
  {
   "cell_type": "code",
   "execution_count": 23,
   "id": "3ec54dec",
   "metadata": {},
   "outputs": [
    {
     "data": {
      "text/plain": [
       "<AxesSubplot:xlabel='Pregnancies'>"
      ]
     },
     "execution_count": 23,
     "metadata": {},
     "output_type": "execute_result"
    },
    {
     "data": {
      "image/png": "[encoded data removed]",
      "text/plain": [
       "<Figure size 640x480 with 1 Axes>"
      ]
     },
     "metadata": {},
     "output_type": "display_data"
    }
   ],
   "source": [
    "sns.boxplot(data=df2, x= df2[\"Pregnancies\"])\n"
   ]
  },
  {
   "cell_type": "code",
   "execution_count": 24,
   "id": "fd8caa3a",
   "metadata": {},
   "outputs": [
    {
     "data": {
      "text/plain": [
       "<AxesSubplot:xlabel='Glucose'>"
      ]
     },
     "execution_count": 24,
     "metadata": {},
     "output_type": "execute_result"
    },
    {
     "data": {
      "image/png": "[encoded data removed]",
      "text/plain": [
       "<Figure size 640x480 with 1 Axes>"
      ]
     },
     "metadata": {},
     "output_type": "display_data"
    }
   ],
   "source": [
    "sns.boxplot(data=df2, x= df2[\"Glucose\"])\n"
   ]
  },
  {
   "cell_type": "code",
   "execution_count": 25,
   "id": "b9c6913d",
   "metadata": {},
   "outputs": [
    {
     "data": {
      "text/plain": [
       "<AxesSubplot:xlabel='Insulin'>"
      ]
     },
     "execution_count": 25,
     "metadata": {},
     "output_type": "execute_result"
    },
    {
     "data": {
      "image/png": "[encoded data removed]",
      "text/plain": [
       "<Figure size 640x480 with 1 Axes>"
      ]
     },
     "metadata": {},
     "output_type": "display_data"
    }
   ],
   "source": [
    "sns.boxplot(data=df2, x= df2[\"Insulin\"])\n"
   ]
  },
  {
   "cell_type": "code",
   "execution_count": 26,
   "id": "a8e790fe",
   "metadata": {},
   "outputs": [
    {
     "data": {
      "text/html": [
       "<div>\n",
       "<style scoped>\n",
       "    .dataframe tbody tr th:only-of-type {\n",
       "        vertical-align: middle;\n",
       "    }\n",
       "\n",
       "    .dataframe tbody tr th {\n",
       "        vertical-align: top;\n",
       "    }\n",
       "\n",
       "    .dataframe thead th {\n",
       "        text-align: right;\n",
       "    }\n",
       "</style>\n",
       "<table border=\"1\" class=\"dataframe\">\n",
       "  <thead>\n",
       "    <tr style=\"text-align: right;\">\n",
       "      <th></th>\n",
       "      <th>Pregnancies</th>\n",
       "      <th>Glucose</th>\n",
       "      <th>BloodPressure</th>\n",
       "      <th>SkinThickness</th>\n",
       "      <th>Insulin</th>\n",
       "      <th>BMI</th>\n",
       "      <th>DiabetesPedigreeFunction</th>\n",
       "      <th>Age</th>\n",
       "      <th>Outcome</th>\n",
       "    </tr>\n",
       "  </thead>\n",
       "  <tbody>\n",
       "    <tr>\n",
       "      <th>0</th>\n",
       "      <td>6.0</td>\n",
       "      <td>148.0</td>\n",
       "      <td>72.0</td>\n",
       "      <td>35.0</td>\n",
       "      <td>105.0</td>\n",
       "      <td>33.6</td>\n",
       "      <td>0.627</td>\n",
       "      <td>50.0</td>\n",
       "      <td>1</td>\n",
       "    </tr>\n",
       "    <tr>\n",
       "      <th>1</th>\n",
       "      <td>1.0</td>\n",
       "      <td>85.0</td>\n",
       "      <td>66.0</td>\n",
       "      <td>29.0</td>\n",
       "      <td>105.0</td>\n",
       "      <td>26.6</td>\n",
       "      <td>0.351</td>\n",
       "      <td>31.0</td>\n",
       "      <td>0</td>\n",
       "    </tr>\n",
       "    <tr>\n",
       "      <th>2</th>\n",
       "      <td>8.0</td>\n",
       "      <td>183.0</td>\n",
       "      <td>64.0</td>\n",
       "      <td>32.0</td>\n",
       "      <td>105.0</td>\n",
       "      <td>23.3</td>\n",
       "      <td>0.672</td>\n",
       "      <td>32.0</td>\n",
       "      <td>1</td>\n",
       "    </tr>\n",
       "    <tr>\n",
       "      <th>3</th>\n",
       "      <td>1.0</td>\n",
       "      <td>89.0</td>\n",
       "      <td>66.0</td>\n",
       "      <td>23.0</td>\n",
       "      <td>94.0</td>\n",
       "      <td>28.1</td>\n",
       "      <td>0.167</td>\n",
       "      <td>21.0</td>\n",
       "      <td>0</td>\n",
       "    </tr>\n",
       "    <tr>\n",
       "      <th>4</th>\n",
       "      <td>0.0</td>\n",
       "      <td>137.0</td>\n",
       "      <td>40.0</td>\n",
       "      <td>35.0</td>\n",
       "      <td>168.0</td>\n",
       "      <td>43.1</td>\n",
       "      <td>2.288</td>\n",
       "      <td>33.0</td>\n",
       "      <td>1</td>\n",
       "    </tr>\n",
       "    <tr>\n",
       "      <th>5</th>\n",
       "      <td>5.0</td>\n",
       "      <td>116.0</td>\n",
       "      <td>74.0</td>\n",
       "      <td>32.0</td>\n",
       "      <td>105.0</td>\n",
       "      <td>25.6</td>\n",
       "      <td>0.201</td>\n",
       "      <td>30.0</td>\n",
       "      <td>0</td>\n",
       "    </tr>\n",
       "    <tr>\n",
       "      <th>6</th>\n",
       "      <td>3.0</td>\n",
       "      <td>78.0</td>\n",
       "      <td>50.0</td>\n",
       "      <td>32.0</td>\n",
       "      <td>88.0</td>\n",
       "      <td>31.0</td>\n",
       "      <td>0.248</td>\n",
       "      <td>26.0</td>\n",
       "      <td>1</td>\n",
       "    </tr>\n",
       "    <tr>\n",
       "      <th>7</th>\n",
       "      <td>10.0</td>\n",
       "      <td>115.0</td>\n",
       "      <td>70.0</td>\n",
       "      <td>32.0</td>\n",
       "      <td>105.0</td>\n",
       "      <td>35.3</td>\n",
       "      <td>0.134</td>\n",
       "      <td>29.0</td>\n",
       "      <td>0</td>\n",
       "    </tr>\n",
       "    <tr>\n",
       "      <th>8</th>\n",
       "      <td>2.0</td>\n",
       "      <td>197.0</td>\n",
       "      <td>70.0</td>\n",
       "      <td>45.0</td>\n",
       "      <td>543.0</td>\n",
       "      <td>30.5</td>\n",
       "      <td>0.158</td>\n",
       "      <td>53.0</td>\n",
       "      <td>1</td>\n",
       "    </tr>\n",
       "    <tr>\n",
       "      <th>9</th>\n",
       "      <td>8.0</td>\n",
       "      <td>125.0</td>\n",
       "      <td>96.0</td>\n",
       "      <td>32.0</td>\n",
       "      <td>105.0</td>\n",
       "      <td>32.0</td>\n",
       "      <td>0.232</td>\n",
       "      <td>54.0</td>\n",
       "      <td>1</td>\n",
       "    </tr>\n",
       "  </tbody>\n",
       "</table>\n",
       "</div>"
      ],
      "text/plain": [
       "   Pregnancies  Glucose  BloodPressure  SkinThickness  Insulin   BMI  \\\n",
       "0          6.0    148.0           72.0           35.0    105.0  33.6   \n",
       "1          1.0     85.0           66.0           29.0    105.0  26.6   \n",
       "2          8.0    183.0           64.0           32.0    105.0  23.3   \n",
       "3          1.0     89.0           66.0           23.0     94.0  28.1   \n",
       "4          0.0    137.0           40.0           35.0    168.0  43.1   \n",
       "5          5.0    116.0           74.0           32.0    105.0  25.6   \n",
       "6          3.0     78.0           50.0           32.0     88.0  31.0   \n",
       "7         10.0    115.0           70.0           32.0    105.0  35.3   \n",
       "8          2.0    197.0           70.0           45.0    543.0  30.5   \n",
       "9          8.0    125.0           96.0           32.0    105.0  32.0   \n",
       "\n",
       "   DiabetesPedigreeFunction   Age  Outcome  \n",
       "0                     0.627  50.0        1  \n",
       "1                     0.351  31.0        0  \n",
       "2                     0.672  32.0        1  \n",
       "3                     0.167  21.0        0  \n",
       "4                     2.288  33.0        1  \n",
       "5                     0.201  30.0        0  \n",
       "6                     0.248  26.0        1  \n",
       "7                     0.134  29.0        0  \n",
       "8                     0.158  53.0        1  \n",
       "9                     0.232  54.0        1  "
      ]
     },
     "execution_count": 26,
     "metadata": {},
     "output_type": "execute_result"
    }
   ],
   "source": [
    "df2.head(10)\n"
   ]
  },
  {
   "cell_type": "code",
   "execution_count": 27,
   "id": "a76c3e74",
   "metadata": {},
   "outputs": [
    {
     "name": "stdout",
     "output_type": "stream",
     "text": [
      "<class 'pandas.core.frame.DataFrame'>\n",
      "RangeIndex: 768 entries, 0 to 767\n",
      "Data columns (total 9 columns):\n",
      " #   Column                    Non-Null Count  Dtype  \n",
      "---  ------                    --------------  -----  \n",
      " 0   Pregnancies               768 non-null    float64\n",
      " 1   Glucose                   768 non-null    float64\n",
      " 2   BloodPressure             768 non-null    float64\n",
      " 3   SkinThickness             768 non-null    float64\n",
      " 4   Insulin                   768 non-null    float64\n",
      " 5   BMI                       768 non-null    float64\n",
      " 6   DiabetesPedigreeFunction  768 non-null    float64\n",
      " 7   Age                       768 non-null    float64\n",
      " 8   Outcome                   768 non-null    int64  \n",
      "dtypes: float64(8), int64(1)\n",
      "memory usage: 54.1 KB\n"
     ]
    }
   ],
   "source": [
    "df2.info()\n"
   ]
  },
  {
   "cell_type": "code",
   "execution_count": 28,
   "id": "9340aee1",
   "metadata": {},
   "outputs": [
    {
     "data": {
      "text/html": [
       "<div>\n",
       "<style scoped>\n",
       "    .dataframe tbody tr th:only-of-type {\n",
       "        vertical-align: middle;\n",
       "    }\n",
       "\n",
       "    .dataframe tbody tr th {\n",
       "        vertical-align: top;\n",
       "    }\n",
       "\n",
       "    .dataframe thead th {\n",
       "        text-align: right;\n",
       "    }\n",
       "</style>\n",
       "<table border=\"1\" class=\"dataframe\">\n",
       "  <thead>\n",
       "    <tr style=\"text-align: right;\">\n",
       "      <th></th>\n",
       "      <th>df2</th>\n",
       "    </tr>\n",
       "  </thead>\n",
       "  <tbody>\n",
       "  </tbody>\n",
       "</table>\n",
       "</div>"
      ],
      "text/plain": [
       "Empty DataFrame\n",
       "Columns: [df2]\n",
       "Index: []"
      ]
     },
     "execution_count": 28,
     "metadata": {},
     "output_type": "execute_result"
    }
   ],
   "source": [
    "#couning null values after imputing\n",
    "count2 = pd.concat([df2.isnull().sum()], axis=1, keys=[\"df2\"])\n",
    "count2[count2.sum(axis=1)>0]\n"
   ]
  },
  {
   "cell_type": "code",
   "execution_count": 29,
   "id": "96d4bb01",
   "metadata": {},
   "outputs": [
    {
     "data": {
      "text/plain": [
       "0    500\n",
       "1    268\n",
       "Name: Outcome, dtype: int64"
      ]
     },
     "execution_count": 29,
     "metadata": {},
     "output_type": "execute_result"
    }
   ],
   "source": [
    "#extracting input and output features\n",
    "X = df2.iloc[:,:-1].to_numpy()\n",
    "y = df2['Outcome']\n",
    "\n",
    "y.value_counts()\n"
   ]
  },
  {
   "cell_type": "code",
   "execution_count": 30,
   "id": "6807d679",
   "metadata": {},
   "outputs": [],
   "source": [
    "y = df2['Outcome'].to_numpy()"
   ]
  },
  {
   "cell_type": "code",
   "execution_count": 31,
   "id": "08071995",
   "metadata": {},
   "outputs": [
    {
     "name": "stdout",
     "output_type": "stream",
     "text": [
      "(768, 8)\n"
     ]
    }
   ],
   "source": [
    "print(X.shape)"
   ]
  },
  {
   "cell_type": "code",
   "execution_count": 32,
   "id": "df14b47a",
   "metadata": {},
   "outputs": [],
   "source": [
    "# Handling Class Imbalance Problem using Over Sampling by SMOTETomek\n",
    "from imblearn.combine import SMOTETomek\n",
    "\n",
    "smk = SMOTETomek(random_state=0)\n",
    "X_r, y_r = smk.fit_resample(X, y)\n"
   ]
  },
  {
   "cell_type": "code",
   "execution_count": 33,
   "id": "3df51928",
   "metadata": {},
   "outputs": [],
   "source": [
    "x=X_r\n",
    "y=y_r\n"
   ]
  },
  {
   "cell_type": "code",
   "execution_count": 34,
   "id": "b2b63868",
   "metadata": {},
   "outputs": [],
   "source": [
    "#spliting the data with a test size 10%\n",
    "from sklearn.model_selection import train_test_split\n",
    "\n",
    "x_train, x_test, y_train, y_test = train_test_split(x,y, test_size=0.1, random_state = 11 )\n"
   ]
  },
  {
   "cell_type": "code",
   "execution_count": 35,
   "id": "1f644630",
   "metadata": {},
   "outputs": [
    {
     "name": "stdout",
     "output_type": "stream",
     "text": [
      "(867, 8)\n",
      "[[  2.         108.          62.         ...  25.3          0.881\n",
      "   22.        ]\n",
      " [  1.         168.          88.         ...  35.           0.905\n",
      "   52.        ]\n",
      " [  0.         106.          70.         ...  39.4          0.605\n",
      "   22.        ]\n",
      " ...\n",
      " [  2.         110.          74.         ...  32.4          0.698\n",
      "   27.        ]\n",
      " [  8.          65.          72.         ...  32.           0.6\n",
      "   42.        ]\n",
      " [  5.         119.3686209   74.         ...  33.01583194   0.47472585\n",
      "   36.26323284]]\n"
     ]
    }
   ],
   "source": [
    "print(x_train.shape)\n",
    "print(x_train)\n"
   ]
  },
  {
   "cell_type": "code",
   "execution_count": 36,
   "id": "64b61f35",
   "metadata": {},
   "outputs": [
    {
     "name": "stdout",
     "output_type": "stream",
     "text": [
      "(867,)\n",
      "[0 1 0 1 0 0 1 1 1 1 0 1 1 0 0 1 0 0 1 1 1 1 1 1 1 1 0 1 1 0 1 0 1 0 1 0 0\n",
      " 0 0 1 0 0 0 0 1 0 0 1 1 0 0 1 1 1 0 1 1 1 0 1 1 1 1 1 1 0 1 0 0 0 0 1 0 0\n",
      " 1 1 0 0 0 0 0 1 1 1 1 0 1 0 1 1 1 0 1 1 0 0 1 0 1 0 1 0 1 0 1 0 1 0 0 1 1\n",
      " 1 0 1 1 0 1 0 0 1 1 0 0 1 0 0 1 0 1 0 0 1 1 1 0 1 1 1 1 0 1 1 1 0 0 0 0 1\n",
      " 1 1 1 0 1 1 1 1 1 0 0 1 0 1 1 0 0 0 1 0 1 1 1 1 1 0 0 0 1 0 1 0 0 0 0 0 0\n",
      " 1 1 1 1 1 1 0 1 0 1 1 0 0 0 0 0 0 0 0 0 0 1 1 0 1 0 1 0 0 0 0 1 0 0 1 0 0\n",
      " 1 0 1 0 0 1 1 0 1 0 0 1 1 0 1 1 1 1 1 1 0 1 0 0 0 1 1 1 1 0 0 1 1 0 0 1 0\n",
      " 1 0 1 1 0 0 1 0 1 1 1 0 0 0 1 1 0 1 0 1 0 1 1 1 1 1 0 0 1 1 1 1 1 1 0 0 1\n",
      " 0 0 0 0 1 1 0 0 0 1 0 1 0 1 0 1 1 0 0 1 1 1 1 1 0 1 1 0 1 0 0 0 0 1 0 0 0\n",
      " 1 1 0 1 0 0 1 1 1 0 1 0 1 0 1 0 0 1 0 0 1 1 0 0 0 1 1 1 0 0 0 1 1 0 0 0 1\n",
      " 0 1 1 0 0 0 1 0 0 1 1 1 0 1 1 1 1 0 1 0 0 1 0 1 0 1 1 1 1 0 0 0 0 0 0 0 1\n",
      " 0 0 1 0 1 0 0 0 1 0 0 1 0 1 0 1 0 1 0 1 1 1 0 1 1 0 0 1 1 0 0 1 0 1 0 1 1\n",
      " 0 1 1 0 0 1 1 0 0 0 0 0 0 0 1 1 1 1 0 1 1 0 1 0 0 0 1 1 0 0 1 0 1 0 0 1 0\n",
      " 1 1 0 1 1 1 1 1 0 0 1 1 1 0 0 0 0 0 0 0 0 0 0 0 0 0 0 0 0 1 0 0 1 1 1 0 1\n",
      " 0 1 1 0 0 0 0 0 0 0 0 1 1 1 1 1 1 1 1 0 1 0 0 1 0 1 1 1 1 1 0 0 1 0 1 0 0\n",
      " 1 0 1 1 1 1 0 0 0 1 1 1 0 1 0 0 0 1 0 0 0 1 0 0 1 0 1 1 0 1 0 1 1 0 0 0 1\n",
      " 1 0 0 0 0 0 1 1 1 1 0 0 1 0 0 1 0 0 0 0 1 1 0 0 0 0 0 1 1 1 0 0 1 1 1 0 1\n",
      " 1 0 0 0 1 0 1 0 1 0 0 1 1 1 1 1 1 0 1 0 1 0 0 1 0 0 1 1 0 0 1 0 1 1 0 1 1\n",
      " 1 0 0 1 1 1 1 1 1 1 1 0 1 0 1 1 1 1 1 1 0 0 0 1 0 1 1 1 1 0 0 1 0 1 0 1 0\n",
      " 0 0 1 1 1 1 0 0 0 0 1 1 1 1 0 1 0 0 1 0 0 1 0 1 1 0 0 0 1 0 0 0 1 1 1 1 1\n",
      " 0 1 0 1 1 1 0 1 1 1 1 1 1 0 0 0 1 1 0 1 0 1 1 1 1 1 0 1 1 0 0 0 1 1 0 0 1\n",
      " 1 0 1 0 1 0 0 0 0 1 0 0 1 0 1 0 1 0 0 0 1 0 0 0 1 0 1 0 0 1 0 1 0 1 0 0 0\n",
      " 0 0 1 0 0 0 0 0 1 1 0 1 1 0 0 0 1 0 1 0 0 1 1 0 0 1 0 0 1 1 0 0 1 1 0 1 1\n",
      " 1 1 0 0 1 1 1 0 0 1 1 1 0 0 0 1]\n"
     ]
    }
   ],
   "source": [
    "print(y_train.shape)\n",
    "print(y_train)\n"
   ]
  },
  {
   "cell_type": "code",
   "execution_count": 37,
   "id": "577de639",
   "metadata": {},
   "outputs": [
    {
     "name": "stdout",
     "output_type": "stream",
     "text": [
      "(97, 8)\n",
      "[[2.00000000e+00 1.08000000e+02 5.20000000e+01 2.60000000e+01\n",
      "  6.30000000e+01 3.25000000e+01 3.18000000e-01 2.20000000e+01]\n",
      " [8.67431523e+00 1.75885271e+02 1.03486305e+02 2.75825324e+01\n",
      "  2.35114729e+02 4.18500360e+01 6.23945940e-01 4.84633590e+01]\n",
      " [5.00000000e+00 1.22000000e+02 8.60000000e+01 3.20000000e+01\n",
      "  1.05000000e+02 3.47000000e+01 2.90000000e-01 3.30000000e+01]\n",
      " [1.00000000e+00 8.70000000e+01 6.80000000e+01 3.40000000e+01\n",
      "  7.70000000e+01 3.76000000e+01 4.01000000e-01 2.40000000e+01]\n",
      " [8.00000000e+00 1.55000000e+02 6.20000000e+01 2.60000000e+01\n",
      "  4.95000000e+02 3.40000000e+01 5.43000000e-01 4.60000000e+01]\n",
      " [1.00000000e+00 1.08000000e+02 8.80000000e+01 1.90000000e+01\n",
      "  1.05000000e+02 2.71000000e+01 4.00000000e-01 2.40000000e+01]\n",
      " [0.00000000e+00 9.70000000e+01 6.40000000e+01 3.60000000e+01\n",
      "  1.00000000e+02 3.68000000e+01 6.00000000e-01 2.50000000e+01]\n",
      " [6.00000000e+00 1.34000000e+02 7.00000000e+01 2.30000000e+01\n",
      "  1.30000000e+02 3.54000000e+01 5.42000000e-01 2.90000000e+01]\n",
      " [1.30000000e+01 1.45000000e+02 8.20000000e+01 1.90000000e+01\n",
      "  1.10000000e+02 2.22000000e+01 2.45000000e-01 5.70000000e+01]\n",
      " [8.26317462e+00 1.63115810e+02 8.31158095e+01 2.26210158e+01\n",
      "  1.05000000e+02 3.11094667e+01 8.26873778e-01 3.18526349e+01]\n",
      " [1.00000000e+00 7.90000000e+01 8.00000000e+01 2.50000000e+01\n",
      "  3.70000000e+01 2.54000000e+01 5.83000000e-01 2.20000000e+01]\n",
      " [1.00000000e+00 9.00000000e+01 6.20000000e+01 1.20000000e+01\n",
      "  4.30000000e+01 2.72000000e+01 5.80000000e-01 2.40000000e+01]\n",
      " [5.00000000e+00 1.55000000e+02 8.40000000e+01 4.40000000e+01\n",
      "  5.45000000e+02 3.87000000e+01 6.19000000e-01 3.40000000e+01]\n",
      " [4.00000000e+00 9.50000000e+01 6.00000000e+01 3.20000000e+01\n",
      "  1.05000000e+02 3.54000000e+01 2.84000000e-01 2.80000000e+01]\n",
      " [3.00000000e+00 1.29000000e+02 6.40000000e+01 2.90000000e+01\n",
      "  1.15000000e+02 2.64000000e+01 2.19000000e-01 2.80000000e+01]\n",
      " [2.00000000e+00 8.40000000e+01 7.00000000e+01 3.20000000e+01\n",
      "  1.05000000e+02 3.20000000e+01 3.04000000e-01 2.10000000e+01]\n",
      " [5.00000000e+00 9.90000000e+01 7.40000000e+01 2.70000000e+01\n",
      "  1.05000000e+02 2.90000000e+01 2.03000000e-01 3.20000000e+01]\n",
      " [1.00000000e+00 1.05000000e+02 5.80000000e+01 3.20000000e+01\n",
      "  1.05000000e+02 2.43000000e+01 1.87000000e-01 2.10000000e+01]\n",
      " [1.50000000e+01 1.36000000e+02 7.00000000e+01 3.20000000e+01\n",
      "  1.10000000e+02 3.71000000e+01 1.53000000e-01 4.30000000e+01]\n",
      " [7.00000000e+00 1.50000000e+02 7.80000000e+01 2.90000000e+01\n",
      "  1.26000000e+02 3.52000000e+01 6.92000000e-01 5.40000000e+01]\n",
      " [7.98069967e+00 1.53864898e+02 7.79613993e+01 3.20000000e+01\n",
      "  1.05000000e+02 3.25351023e+01 4.39410139e-01 4.49613993e+01]\n",
      " [1.00000000e+01 1.22000000e+02 6.80000000e+01 3.20000000e+01\n",
      "  1.05000000e+02 3.12000000e+01 2.58000000e-01 4.10000000e+01]\n",
      " [0.00000000e+00 1.28000000e+02 6.80000000e+01 1.90000000e+01\n",
      "  1.80000000e+02 3.05000000e+01 1.39100000e+00 2.50000000e+01]\n",
      " [1.00000000e+00 1.22000000e+02 9.00000000e+01 5.10000000e+01\n",
      "  2.20000000e+02 4.97000000e+01 3.25000000e-01 3.10000000e+01]\n",
      " [7.99983393e+00 1.75998229e+02 8.99995571e+01 3.39995571e+01\n",
      "  2.99999170e+02 3.36999059e+01 4.66999170e-01 5.80000000e+01]\n",
      " [0.00000000e+00 1.39000000e+02 6.20000000e+01 1.70000000e+01\n",
      "  2.10000000e+02 2.21000000e+01 2.07000000e-01 2.10000000e+01]\n",
      " [1.00000000e+00 1.73000000e+02 7.40000000e+01 3.20000000e+01\n",
      "  1.05000000e+02 3.68000000e+01 8.80000000e-02 3.80000000e+01]\n",
      " [1.19053268e-01 1.62267870e+02 7.58809467e+01 3.58809467e+01\n",
      "  1.05000000e+02 4.94214201e+01 3.67422781e-01 2.60000000e+01]\n",
      " [3.00000000e+00 1.11000000e+02 6.20000000e+01 3.20000000e+01\n",
      "  1.05000000e+02 2.26000000e+01 1.42000000e-01 2.10000000e+01]\n",
      " [4.00000000e+00 1.34000000e+02 7.20000000e+01 3.20000000e+01\n",
      "  1.05000000e+02 2.38000000e+01 2.77000000e-01 6.00000000e+01]\n",
      " [0.00000000e+00 1.32000000e+02 7.80000000e+01 3.20000000e+01\n",
      "  1.05000000e+02 3.24000000e+01 3.93000000e-01 2.10000000e+01]\n",
      " [3.00000000e+00 1.02000000e+02 4.40000000e+01 2.00000000e+01\n",
      "  9.40000000e+01 3.08000000e+01 4.00000000e-01 2.60000000e+01]\n",
      " [2.00000000e+00 1.12000000e+02 6.80000000e+01 2.20000000e+01\n",
      "  9.40000000e+01 3.41000000e+01 3.15000000e-01 2.60000000e+01]\n",
      " [3.00000000e+00 8.70000000e+01 6.00000000e+01 1.80000000e+01\n",
      "  1.05000000e+02 2.18000000e+01 4.44000000e-01 2.10000000e+01]\n",
      " [8.00000000e+00 1.83000000e+02 6.40000000e+01 3.20000000e+01\n",
      "  1.05000000e+02 2.33000000e+01 6.72000000e-01 3.20000000e+01]\n",
      " [1.82479434e+00 1.19030740e+02 6.56495887e+01 2.96905758e+01\n",
      "  1.56000000e+02 3.42422139e+01 6.96948766e-01 3.18145475e+01]\n",
      " [2.00000000e+00 1.19000000e+02 7.00000000e+01 3.20000000e+01\n",
      "  1.05000000e+02 1.96000000e+01 8.32000000e-01 7.20000000e+01]\n",
      " [8.15776278e+00 1.02280746e+02 7.67486553e+01 3.65320904e+01\n",
      "  1.05000000e+02 3.24320904e+01 6.72112225e-01 4.74973106e+01]\n",
      " [1.00000000e+00 1.51000000e+02 6.00000000e+01 3.20000000e+01\n",
      "  1.05000000e+02 2.61000000e+01 1.79000000e-01 2.20000000e+01]\n",
      " [4.00000000e+00 7.60000000e+01 6.20000000e+01 3.20000000e+01\n",
      "  1.05000000e+02 3.40000000e+01 3.91000000e-01 2.50000000e+01]\n",
      " [6.74386042e+00 1.07207023e+02 8.05122792e+01 3.12561396e+01\n",
      "  1.05000000e+02 3.45936882e+01 8.84435820e-01 4.12070230e+01]\n",
      " [1.00000000e+00 1.00000000e+02 6.60000000e+01 2.90000000e+01\n",
      "  1.96000000e+02 3.20000000e+01 4.44000000e-01 4.20000000e+01]\n",
      " [0.00000000e+00 1.35000000e+02 6.80000000e+01 4.20000000e+01\n",
      "  2.50000000e+02 4.23000000e+01 3.65000000e-01 2.40000000e+01]\n",
      " [1.00000000e+00 1.00000000e+02 6.60000000e+01 1.50000000e+01\n",
      "  5.60000000e+01 2.36000000e+01 6.66000000e-01 2.60000000e+01]\n",
      " [5.00000000e+00 1.21000000e+02 7.20000000e+01 2.30000000e+01\n",
      "  1.12000000e+02 2.62000000e+01 2.45000000e-01 3.00000000e+01]\n",
      " [0.00000000e+00 1.77000000e+02 6.00000000e+01 2.90000000e+01\n",
      "  4.78000000e+02 3.46000000e+01 1.07200000e+00 2.10000000e+01]\n",
      " [3.00000000e+00 1.03000000e+02 7.20000000e+01 3.00000000e+01\n",
      "  1.52000000e+02 2.76000000e+01 7.30000000e-01 2.70000000e+01]\n",
      " [0.00000000e+00 1.00000000e+02 7.00000000e+01 2.60000000e+01\n",
      "  5.00000000e+01 3.08000000e+01 5.97000000e-01 2.10000000e+01]\n",
      " [3.00000000e+00 9.60000000e+01 7.80000000e+01 3.90000000e+01\n",
      "  1.05000000e+02 3.73000000e+01 2.38000000e-01 4.00000000e+01]\n",
      " [2.00000000e+00 1.20000000e+02 5.40000000e+01 3.20000000e+01\n",
      "  1.05000000e+02 2.68000000e+01 4.55000000e-01 2.70000000e+01]\n",
      " [6.56085330e+00 1.62730240e+02 8.66825599e+01 3.84868264e+01\n",
      "  3.13095359e+02 3.68386452e+01 7.13442928e-01 4.39523203e+01]\n",
      " [2.78060662e+00 1.38556121e+02 7.11224265e+01 3.50000000e+01\n",
      "  1.63107151e+02 3.29316360e+01 4.37791011e-01 2.32244853e+01]\n",
      " [5.00000000e+00 1.39000000e+02 6.40000000e+01 3.50000000e+01\n",
      "  1.40000000e+02 2.86000000e+01 4.11000000e-01 2.60000000e+01]\n",
      " [0.00000000e+00 1.34000000e+02 5.80000000e+01 2.00000000e+01\n",
      "  2.91000000e+02 2.64000000e+01 3.52000000e-01 2.10000000e+01]\n",
      " [3.00000000e+00 1.69000000e+02 7.40000000e+01 1.90000000e+01\n",
      "  1.25000000e+02 2.99000000e+01 2.68000000e-01 3.10000000e+01]\n",
      " [3.00000000e+00 1.22000000e+02 7.80000000e+01 3.20000000e+01\n",
      "  1.05000000e+02 2.30000000e+01 2.54000000e-01 4.00000000e+01]\n",
      " [4.00000000e+00 1.14000000e+02 6.50000000e+01 3.20000000e+01\n",
      "  1.05000000e+02 2.19000000e+01 4.32000000e-01 3.70000000e+01]\n",
      " [7.00000000e+00 1.29000000e+02 6.80000000e+01 4.90000000e+01\n",
      "  1.25000000e+02 3.85000000e+01 4.39000000e-01 4.30000000e+01]\n",
      " [4.00000000e+00 9.50000000e+01 7.00000000e+01 3.20000000e+01\n",
      "  1.05000000e+02 3.21000000e+01 6.12000000e-01 2.40000000e+01]\n",
      " [0.00000000e+00 1.79393525e+02 9.00000000e+01 2.66064755e+01\n",
      "  9.90971319e+01 4.11092135e+01 5.39608871e-01 2.77222945e+01]\n",
      " [3.00000000e+00 1.30000000e+02 7.80000000e+01 2.30000000e+01\n",
      "  7.90000000e+01 2.84000000e+01 3.23000000e-01 3.40000000e+01]\n",
      " [1.10000000e+01 1.38000000e+02 7.40000000e+01 2.60000000e+01\n",
      "  1.44000000e+02 3.61000000e+01 5.57000000e-01 5.00000000e+01]\n",
      " [3.16949057e+00 1.12019777e+02 7.02259874e+01 2.36610189e+01\n",
      "  1.60245764e+02 3.19757069e+01 4.77160935e-01 3.72259874e+01]\n",
      " [4.46351311e+00 1.93975675e+02 7.00000000e+01 3.14878377e+01\n",
      "  1.05000000e+02 3.29486492e+01 2.83441880e-01 2.79270262e+01]\n",
      " [1.10000000e+01 1.55000000e+02 7.60000000e+01 2.80000000e+01\n",
      "  1.50000000e+02 3.33000000e+01 1.35300000e+00 5.10000000e+01]\n",
      " [7.00000000e+00 1.52000000e+02 8.80000000e+01 4.40000000e+01\n",
      "  1.05000000e+02 5.00000000e+01 3.37000000e-01 3.60000000e+01]\n",
      " [7.41966202e+00 1.21633897e+02 7.57857654e+01 3.34196620e+01\n",
      "  1.05000000e+02 2.82625089e+01 3.18311829e-01 2.90000000e+01]\n",
      " [7.00000000e+00 1.02000000e+02 7.40000000e+01 4.00000000e+01\n",
      "  1.05000000e+02 3.72000000e+01 2.04000000e-01 4.50000000e+01]\n",
      " [2.55356102e+00 1.93125073e+02 6.92619186e+01 4.32470568e+01\n",
      "  5.38571512e+02 3.08229106e+01 1.93520166e-01 5.23541788e+01]\n",
      " [3.00000000e+00 7.80000000e+01 7.00000000e+01 3.20000000e+01\n",
      "  1.05000000e+02 3.25000000e+01 2.70000000e-01 3.90000000e+01]\n",
      " [0.00000000e+00 1.05000000e+02 9.00000000e+01 3.20000000e+01\n",
      "  1.05000000e+02 2.96000000e+01 1.97000000e-01 4.60000000e+01]\n",
      " [2.00000000e+00 1.27000000e+02 5.80000000e+01 2.40000000e+01\n",
      "  2.75000000e+02 2.77000000e+01 1.60000000e+00 2.50000000e+01]\n",
      " [7.00000000e+00 1.05000000e+02 7.00000000e+01 3.20000000e+01\n",
      "  1.05000000e+02 3.20000000e+01 3.05000000e-01 2.40000000e+01]\n",
      " [1.00000000e+00 9.90000000e+01 6.80000000e+01 3.50000000e+01\n",
      "  1.05000000e+02 3.20000000e+01 3.89000000e-01 2.20000000e+01]\n",
      " [3.00000000e+00 1.08000000e+02 6.20000000e+01 2.40000000e+01\n",
      "  1.05000000e+02 2.60000000e+01 2.23000000e-01 2.50000000e+01]\n",
      " [3.00000000e+00 1.73000000e+02 8.40000000e+01 3.30000000e+01\n",
      "  4.74000000e+02 3.57000000e+01 2.58000000e-01 2.20000000e+01]\n",
      " [7.48196544e+00 1.65265029e+02 8.14699424e+01 2.04939885e+01\n",
      "  1.10060115e+02 3.05722948e+01 6.88557757e-01 3.17469942e+01]\n",
      " [1.01671949e+01 1.31266244e+02 7.11331221e+01 3.11331221e+01\n",
      "  1.05000000e+02 3.59340728e+01 3.99598253e-01 4.11671949e+01]\n",
      " [2.00000000e+00 9.50000000e+01 5.40000000e+01 1.40000000e+01\n",
      "  8.80000000e+01 2.61000000e+01 7.48000000e-01 2.20000000e+01]\n",
      " [4.00000000e+00 9.90000000e+01 7.20000000e+01 1.70000000e+01\n",
      "  1.05000000e+02 2.56000000e+01 2.94000000e-01 2.80000000e+01]\n",
      " [5.00000000e+00 1.87000000e+02 7.60000000e+01 2.70000000e+01\n",
      "  2.07000000e+02 4.36000000e+01 1.03400000e+00 5.30000000e+01]\n",
      " [1.00000000e+01 1.22000000e+02 7.80000000e+01 3.10000000e+01\n",
      "  1.05000000e+02 2.76000000e+01 5.12000000e-01 4.50000000e+01]\n",
      " [5.91033763e+00 1.61544831e+02 9.58069613e+01 3.20000000e+01\n",
      "  1.05000000e+02 3.43772676e+01 1.57372363e-01 4.97241559e+01]\n",
      " [3.00000000e+00 1.71000000e+02 7.20000000e+01 3.30000000e+01\n",
      "  1.35000000e+02 3.33000000e+01 1.99000000e-01 2.40000000e+01]\n",
      " [3.87417134e+00 1.63048014e+02 7.83112570e+01 2.09519856e+01\n",
      "  1.47951986e+02 2.73160584e+01 7.13579391e-01 3.62334428e+01]\n",
      " [8.00000000e+00 1.81000000e+02 6.80000000e+01 3.60000000e+01\n",
      "  4.95000000e+02 3.01000000e+01 6.15000000e-01 6.00000000e+01]\n",
      " [6.00000000e+00 9.30000000e+01 5.00000000e+01 3.00000000e+01\n",
      "  6.40000000e+01 2.87000000e+01 3.56000000e-01 2.30000000e+01]\n",
      " [0.00000000e+00 1.26000000e+02 8.40000000e+01 2.90000000e+01\n",
      "  2.15000000e+02 3.07000000e+01 5.20000000e-01 2.40000000e+01]\n",
      " [2.00000000e+00 9.90000000e+01 7.00000000e+01 3.20000000e+01\n",
      "  1.05000000e+02 2.22000000e+01 1.08000000e-01 2.30000000e+01]\n",
      " [6.00000000e+00 1.19000000e+02 5.00000000e+01 2.20000000e+01\n",
      "  1.76000000e+02 2.71000000e+01 1.31800000e+00 3.30000000e+01]\n",
      " [7.00000000e+00 1.95000000e+02 7.00000000e+01 3.30000000e+01\n",
      "  1.45000000e+02 2.51000000e+01 1.63000000e-01 5.50000000e+01]\n",
      " [5.68002197e+00 1.12733260e+02 9.84533480e+01 3.29066960e+01\n",
      "  1.05000000e+02 5.07239297e+01 2.15800220e-01 3.18534578e+01]\n",
      " [4.00000000e+00 8.30000000e+01 8.60000000e+01 1.90000000e+01\n",
      "  1.05000000e+02 2.93000000e+01 3.17000000e-01 3.40000000e+01]\n",
      " [9.38868445e+00 1.44611316e+02 8.91660533e+01 3.38056578e+01\n",
      "  1.61307498e+02 3.15243560e+01 6.70525071e-01 5.26113156e+01]\n",
      " [0.00000000e+00 1.02000000e+02 5.20000000e+01 3.20000000e+01\n",
      "  1.05000000e+02 2.51000000e+01 7.80000000e-02 2.10000000e+01]\n",
      " [1.09226784e+01 1.42154643e+02 8.05635712e+01 4.14438688e+01\n",
      "  3.25359107e+02 3.87571011e+01 5.05974759e-01 5.52468449e+01]\n",
      " [0.00000000e+00 7.30000000e+01 7.00000000e+01 3.20000000e+01\n",
      "  1.05000000e+02 2.11000000e+01 3.42000000e-01 2.50000000e+01]]\n"
     ]
    }
   ],
   "source": [
    "print(x_test.shape)\n",
    "print(x_test)\n"
   ]
  },
  {
   "cell_type": "code",
   "execution_count": 38,
   "id": "bffaddcf",
   "metadata": {},
   "outputs": [
    {
     "name": "stdout",
     "output_type": "stream",
     "text": [
      "(97,)\n",
      "[0 1 0 0 1 0 0 1 0 1 0 0 0 0 1 0 0 0 1 1 1 0 1 1 1 0 1 1 0 1 0 0 0 0 1 1 0\n",
      " 1 0 0 1 0 1 0 0 1 0 0 0 0 1 1 0 0 1 0 0 1 0 1 1 1 1 1 1 1 1 0 1 0 0 0 0 0\n",
      " 0 1 1 1 0 0 1 0 1 1 1 1 0 0 0 1 1 1 0 1 0 1 0]\n"
     ]
    }
   ],
   "source": [
    "print(y_test.shape)\n",
    "print(y_test)\n"
   ]
  },
  {
   "cell_type": "code",
   "execution_count": 39,
   "id": "052916db",
   "metadata": {},
   "outputs": [],
   "source": [
    "#for normalizatoin we will perform standard z-score ,as all data are numerical\n",
    "from sklearn.preprocessing import StandardScaler\n",
    "\n",
    "sc = StandardScaler()\n",
    "x_train = sc.fit_transform(x_train)\n",
    "x_test = sc.transform(x_test)\n"
   ]
  },
  {
   "cell_type": "code",
   "execution_count": 40,
   "id": "503b88db",
   "metadata": {},
   "outputs": [],
   "source": [
    "#appling Logistic Regression model\n",
    "from sklearn.metrics import confusion_matrix,accuracy_score,precision_score,recall_score \n",
    "from sklearn.linear_model import LogisticRegression\n",
    "\n",
    "LR = LogisticRegression()\n",
    "\n",
    "LR.fit(x_train, y_train)\n",
    "y_predict=LR.predict(x_test)\n"
   ]
  },
  {
   "cell_type": "code",
   "execution_count": 41,
   "id": "977a715c",
   "metadata": {},
   "outputs": [
    {
     "name": "stdout",
     "output_type": "stream",
     "text": [
      "Accuracy : 86.5979381443299\n"
     ]
    }
   ],
   "source": [
    "#compute accuracy\n",
    "a=accuracy_score(y_test,y_predict)\n",
    "print(\"Accuracy :\" , a *100)\n"
   ]
  },
  {
   "cell_type": "code",
   "execution_count": 42,
   "id": "5e9c43a2",
   "metadata": {},
   "outputs": [
    {
     "name": "stdout",
     "output_type": "stream",
     "text": [
      "Precision: 86.66666666666667\n"
     ]
    }
   ],
   "source": [
    "#precision\n",
    "p=precision_score(y_test,y_predict)\n",
    "print('Precision:',p*100) # number of right predications \n"
   ]
  },
  {
   "cell_type": "code",
   "execution_count": 43,
   "id": "10030364",
   "metadata": {},
   "outputs": [
    {
     "name": "stdout",
     "output_type": "stream",
     "text": [
      "Recall: 84.78260869565217\n"
     ]
    }
   ],
   "source": [
    "#recall\n",
    "r=recall_score(y_test,y_predict) \n",
    "print('Recall:',r*100) \n"
   ]
  },
  {
   "cell_type": "code",
   "execution_count": 44,
   "id": "d05bea68",
   "metadata": {},
   "outputs": [
    {
     "data": {
      "text/plain": [
       "(<Figure size 700x700 with 1 Axes>,\n",
       " <AxesSubplot:xlabel='predicted label', ylabel='true label'>)"
      ]
     },
     "execution_count": 44,
     "metadata": {},
     "output_type": "execute_result"
    },
    {
     "data": {
      "image/png": "[encoded data removed]",
      "text/plain": [
       "<Figure size 700x700 with 1 Axes>"
      ]
     },
     "metadata": {},
     "output_type": "display_data"
    }
   ],
   "source": [
    "#confusion matrix\n",
    "from mlxtend.plotting import plot_confusion_matrix\n",
    "\n",
    "ytrue = y_test\n",
    "\n",
    "CM = confusion_matrix(ytrue,y_predict)\n",
    "plot_confusion_matrix(conf_mat = CM,figsize=(7,7),show_normed = True)\n"
   ]
  },
  {
   "cell_type": "code",
   "execution_count": 45,
   "id": "c587a9fd",
   "metadata": {},
   "outputs": [
    {
     "name": "stdout",
     "output_type": "stream",
     "text": [
      "ROC accuracy score :  86.50895140664962\n"
     ]
    }
   ],
   "source": [
    "# ROC \n",
    "from sklearn.metrics import roc_curve, roc_auc_score, auc\n",
    "\n",
    "fpr,tpr,_=roc_curve(y_test,y_predict)\n",
    "\n",
    "#calculate AUC\n",
    "roc_auc=auc(fpr,tpr)\n",
    "ras = roc_auc_score(ytrue, y_predict)\n",
    "print('ROC accuracy score : ', ras*100)\n"
   ]
  },
  {
   "cell_type": "code",
   "execution_count": 46,
   "id": "277225a0",
   "metadata": {},
   "outputs": [
    {
     "data": {
      "image/png": "[encoded data removed]",
      "text/plain": [
       "<Figure size 640x480 with 1 Axes>"
      ]
     },
     "metadata": {},
     "output_type": "display_data"
    }
   ],
   "source": [
    "#plot of ROC curve for a specified class\n",
    "import matplotlib.pyplot as plt\n",
    "plt.figure()\n",
    "plt.plot(fpr,tpr,label='ROC curve(area= %2.f)' %roc_auc)\n",
    "plt.plot([0,1],[0,1],'k--')\n",
    "plt.xlim([0.0,1.0])\n",
    "plt.ylim([0.0,1.05])\n",
    "plt.xlabel('False positive rate')\n",
    "plt.ylabel('True positive rate')\n",
    "plt.title('ROC curve')\n",
    "plt.legend(loc='lower right')\n",
    "plt.grid()\n",
    "plt.show()\n",
    "\n"
   ]
  },
  {
   "cell_type": "code",
   "execution_count": 47,
   "id": "59923a46",
   "metadata": {},
   "outputs": [
    {
     "name": "stdout",
     "output_type": "stream",
     "text": [
      "LRf1 :  86.58935899452364\n"
     ]
    }
   ],
   "source": [
    "#F1-Score For Logistic Regression\n",
    "from sklearn.metrics import f1_score\n",
    "LRf1 = f1_score(ytrue, y_predict, average='weighted') \n",
    "print('LRf1 : ', LRf1*100)"
   ]
  },
  {
   "cell_type": "code",
   "execution_count": null,
   "id": "00e10096",
   "metadata": {},
   "outputs": [],
   "source": []
  }
 ],
 "metadata": {
  "kernelspec": {
   "display_name": "Python 3 (ipykernel)",
   "language": "python",
   "name": "python3"
  },
  "language_info": {
   "codemirror_mode": {
    "name": "ipython",
    "version": 3
   },
   "file_extension": ".py",
   "mimetype": "text/x-python",
   "name": "python",
   "nbconvert_exporter": "python",
   "pygments_lexer": "ipython3",
   "version": "3.9.13"
  }
 },
 "nbformat": 4,
 "nbformat_minor": 5
}
